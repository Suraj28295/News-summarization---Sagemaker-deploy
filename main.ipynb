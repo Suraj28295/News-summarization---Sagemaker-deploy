{
 "cells": [
  {
   "cell_type": "code",
   "execution_count": null,
   "id": "ee4a57b8",
   "metadata": {},
   "outputs": [],
   "source": [
    "import sys\n",
    "!{sys.executable} -m pip install \"datasets==2.3.0\" \"transformers==4.20.1\" \"rouge-score\""
   ]
  },
  {
   "cell_type": "code",
   "execution_count": null,
   "id": "44f77583",
   "metadata": {},
   "outputs": [],
   "source": [
    "# Run to load all the Libraries and helper functions\n",
    "%run \"Utilities/libraries.py\""
   ]
  },
  {
   "cell_type": "code",
   "execution_count": null,
   "id": "47a242d3",
   "metadata": {},
   "outputs": [],
   "source": [
    "# INPUTS TO THE SCRIPTS\n",
    "Bucket_Name=\"model-deploy-poc\"\n",
    "\n",
    "train_test_val_location_S3=\"train_test_val\"\n",
    "\n",
    "\n",
    "text_column=text_column\n",
    "target_column=target_column"
   ]
  },
  {
   "cell_type": "code",
   "execution_count": null,
   "id": "20ab5c71",
   "metadata": {},
   "outputs": [],
   "source": [
    "model_names=[\"patrickvonplaten/bert2bert_cnn_daily_mail\",\n",
    "             'google/pegasus-xsum',\n",
    "            \"sshleifer/distilbart-cnn-12-6\",\n",
    "           'flax-community/t5-base-cnn-dm'\n",
    "            ]"
   ]
  },
  {
   "cell_type": "code",
   "execution_count": null,
   "id": "53c9cc54",
   "metadata": {},
   "outputs": [],
   "source": [
    "sess=boto3.session.Session()\n",
    "role=sagemaker.get_execution_role()"
   ]
  },
  {
   "cell_type": "markdown",
   "id": "240e734c",
   "metadata": {},
   "source": [
    "## 1. Data Loading and Pre-processing"
   ]
  },
  {
   "cell_type": "code",
   "execution_count": null,
   "id": "ae25ed5c",
   "metadata": {},
   "outputs": [],
   "source": [
    "# load data from S3 to Data\n",
    "# prefix=\"BBC News Summary\"\n",
    "# !aws s3 cp \"s3://{Bucket_Name}/{prefix}\" \"./Data/\" --recursive"
   ]
  },
  {
   "cell_type": "code",
   "execution_count": null,
   "id": "d3c0750a",
   "metadata": {},
   "outputs": [],
   "source": [
    "# Read data\n",
    "dataset_path = Path('Data/')\n",
    "\n",
    "articles_data = list(map(extract, dataset_path.glob('News Articles/*/*.txt')))\n",
    "summaries_data = list(map(extract, dataset_path.glob('Summaries/*/*.txt')))\n",
    "\n",
    "articles_df = pd.DataFrame(articles_data, columns=('Category', 'ID', text_column))\n",
    "summaries_df = pd.DataFrame(summaries_data, columns=('Category', 'ID', target_column))\n",
    "\n",
    "df = articles_df.merge(summaries_df, how='inner', on=('Category', 'ID'))"
   ]
  },
  {
   "cell_type": "code",
   "execution_count": null,
   "id": "09f1d7bc",
   "metadata": {},
   "outputs": [],
   "source": [
    "articles_df.shape"
   ]
  },
  {
   "cell_type": "markdown",
   "id": "caf9edf5",
   "metadata": {},
   "source": [
    "## 2. Data Cleaning "
   ]
  },
  {
   "cell_type": "code",
   "execution_count": null,
   "id": "dd2b2878",
   "metadata": {},
   "outputs": [],
   "source": [
    "df[text_column][0]"
   ]
  },
  {
   "cell_type": "code",
   "execution_count": null,
   "id": "9d2b71e7",
   "metadata": {},
   "outputs": [],
   "source": [
    "# We need to do some data cleaning before checking stats\n",
    "df[text_column]=data_clean(df[text_column])\n",
    "df[target_column]=data_clean(df[target_column])\n",
    "df.drop(columns=['ID','Category'],inplace=True)\n",
    "print(data_clean(df[text_column][:5])[0])\n"
   ]
  },
  {
   "cell_type": "code",
   "execution_count": null,
   "id": "23d8ed82",
   "metadata": {},
   "outputs": [],
   "source": [
    "print((df[text_column].str.len()).describe(percentiles=[.25, .5, .75,0.85]))\n",
    "print(\"#############################\")\n",
    "print((df[target_column].str.len()).describe(percentiles=[.25, .5, .75,0.85]))"
   ]
  },
  {
   "cell_type": "code",
   "execution_count": null,
   "id": "c2d61961",
   "metadata": {},
   "outputs": [],
   "source": [
    "nth_decile_outlire_threshold=0.9\n",
    "\n",
    "df=df[(df[text_column].str.len()<(df[text_column].str.len()).describe(percentiles=[nth_decile_outlire_threshold])[-2]) |\n",
    "      (df[target_column].str.len()<(df[target_column].str.len()).describe(percentiles=[nth_decile_outlire_threshold])[-2])]"
   ]
  },
  {
   "cell_type": "code",
   "execution_count": null,
   "id": "491d0f91",
   "metadata": {},
   "outputs": [],
   "source": [
    "print((df[text_column].str.len()).describe(percentiles=[.25, .5, .75,0.85]))\n",
    "print(\"#############################\")\n",
    "print((df[target_column].str.len()).describe(percentiles=[.25, .5, .75,0.85]))"
   ]
  },
  {
   "cell_type": "markdown",
   "id": "e59906fc",
   "metadata": {},
   "source": [
    "## 3. Prepare data for the model"
   ]
  },
  {
   "cell_type": "code",
   "execution_count": null,
   "id": "85493a87",
   "metadata": {},
   "outputs": [],
   "source": [
    "df_to_datadict=data_for_model_from_pandas(df,test_size=0.2,val_from_test_size=0.3)"
   ]
  },
  {
   "cell_type": "code",
   "execution_count": null,
   "id": "24b97f6f",
   "metadata": {},
   "outputs": [],
   "source": [
    "df_to_datadict"
   ]
  },
  {
   "cell_type": "code",
   "execution_count": null,
   "id": "d918baef",
   "metadata": {},
   "outputs": [],
   "source": [
    "s3 = filesystems.S3FileSystem()\n",
    "df_to_datadict.save_to_disk(f\"s3://{Bucket_Name}/{train_test_val_location_S3}/\", fs=s3)"
   ]
  },
  {
   "cell_type": "code",
   "execution_count": null,
   "id": "8e919093",
   "metadata": {},
   "outputs": [],
   "source": [
    "input_path = f\"s3://{Bucket_Name}/{train_test_val_location_S3}\"\n"
   ]
  },
  {
   "cell_type": "markdown",
   "id": "a0a32987",
   "metadata": {},
   "source": [
    "## 4. Invoke Model Training"
   ]
  },
  {
   "cell_type": "code",
   "execution_count": null,
   "id": "823cb8f5",
   "metadata": {},
   "outputs": [],
   "source": [
    "import sagemaker\n",
    "from sagemaker.huggingface import HuggingFace\n",
    "\n",
    "# Experiment with your models here. Change hyperparameters to optimize your results\n",
    "def model_invoke(model_name,train_test_val_location_S3):\n",
    "    output_dir_name=model_name.split(\"/\")[-1]\n",
    "    output_path = f\"s3://{Bucket_Name}/model/{output_dir_name}\"\n",
    "    # gets role for executing training job\n",
    "    role = sagemaker.get_execution_role()\n",
    "    hyperparameters = {\n",
    "        \"model-name\": model_name,\n",
    "        \"text-column\": text_column,\n",
    "        \"target-column\": target_column,\n",
    "        \"epoch\": 5,\n",
    "        'train-data-dir':input_path,\n",
    "        'log-dir':\"Logs\",\n",
    "#         'train-batch-size': 150,\n",
    "#         'eval-batch-size': 5,\n",
    "     # more info here https://github.com/huggingface/transformers/tree/v4.17.0/examples/pytorch/summarization\n",
    "    }\n",
    "\n",
    "    metric_definitions = [\n",
    "        {\"Name\": \"training:loss\", \"Regex\": \"'loss': (.*?),\"},\n",
    "        {\"Name\": \"validation:loss\", \"Regex\": \"'eval_loss': (.*?),\"},\n",
    "        {\"Name\": \"validation:rouge1\", \"Regex\": \"'eval_rouge1': (.*?),\"},\n",
    "        {\"Name\": \"validation:rouge2\", \"Regex\": \"'eval_rouge2': (.*?),\"},\n",
    "        {\"Name\": \"validation:rougeL\", \"Regex\": \"'eval_rougeL': (.*?),\"},\n",
    "        {\"Name\": \"validation:rougeLsum\", \"Regex\": \"'eval_rougeLsum': (.*?),\"},\n",
    "        {\"Name\": \"validation:gen_len\", \"Regex\": \"'eval_gen_len': (.*?),\"},\n",
    "    ]\n",
    "\n",
    "    # git configuration to download our fine-tuning script\n",
    "    # git_config = {'repo': 'https://github.com/huggingface/transformers.git','branch': 'v4.17.0'}\n",
    "\n",
    "# creates Hugging Face estimator\n",
    "    huggingface_estimator = HuggingFace(\n",
    "     entry_point='train.py',\n",
    "     source_dir='Utilities',\n",
    "     instance_type='ml.p3.2xlarge',\n",
    "     base_job_name=model_name.split(\"/\")[-1],   \n",
    "     instance_count=1,\n",
    "     role=role,\n",
    "    #  git_config=git_config,\n",
    "     transformers_version='4.17.0',\n",
    "     pytorch_version='1.10.2',\n",
    "     py_version='py38',\n",
    "     hyperparameters = hyperparameters,\n",
    "     output_path=output_path,\n",
    "#  If operating on ml.p3.4xlarge and above we can opt for distributed computing to reduce training time.\n",
    "    #  distribution ={\"mpi\": { \"enabled\": True },\"smdistributed\": {\"modelparallel\": { \"enabled\": True,\"parameters\": {}}}},\n",
    "     metric_definitions=metric_definitions,\n",
    "    )\n",
    "    \n",
    "    huggingface_estimator.fit({\"train\": f\"s3://{Bucket_Name}/{train_test_val_location_S3}/train\",\n",
    "                           \"test\": f\"s3://{Bucket_Name}/{train_test_val_location_S3}/val\"})\n",
    "    return(huggingface_estimator)\n",
    "# starting the train job\n",
    "# huggingface_estimator.fit()"
   ]
  },
  {
   "cell_type": "code",
   "execution_count": null,
   "id": "68fa9e50",
   "metadata": {},
   "outputs": [],
   "source": [
    "model_dict={}\n",
    "for model_name in model_names:\n",
    "    print('\\033[1m' + \"#\"*75)\n",
    "    print('\\033[1m' + model_name+\": \" +\"Begin Process.........\")\n",
    "    print('\\033[1m' + \"#\"*75 +'\\033[0m')\n",
    "    model_dict[model_name]=model_invoke(model_name=model_name,train_test_val_location_S3=train_test_val_location_S3)"
   ]
  },
  {
   "cell_type": "code",
   "execution_count": null,
   "id": "80bc60d8",
   "metadata": {},
   "outputs": [],
   "source": [
    "# {j:model_dict[j].model_data for i,j in enumerate(model_dict)}"
   ]
  },
  {
   "cell_type": "code",
   "execution_count": null,
   "id": "0c929e61",
   "metadata": {},
   "outputs": [],
   "source": []
  },
  {
   "cell_type": "code",
   "execution_count": null,
   "id": "b31bc14e",
   "metadata": {},
   "outputs": [],
   "source": [
    "from sagemaker.huggingface.model import HuggingFaceModel\n",
    "\n",
    "model_name = \"distilbart-cnn-12-6\"\n",
    "model_location=f\"s3://{Bucket_Name}/final_models/\"+model_name+\".tar.gz\"\n",
    "\n",
    "model_for_deployment = HuggingFaceModel(\n",
    "    entry_point=\"inference.py\",\n",
    "    source_dir=\"Utilities\",\n",
    "    model_data=model_location,\n",
    "    role=role,\n",
    "    pytorch_version=\"1.7.1\",\n",
    "    py_version=\"py36\",\n",
    "    transformers_version=\"4.6.1\",\n",
    "    name=model_name.replace(r\"_\",\"-\")+\"-V2\",\n",
    ")"
   ]
  },
  {
   "cell_type": "code",
   "execution_count": null,
   "id": "a79012ce",
   "metadata": {},
   "outputs": [],
   "source": [
    "endpoint_name = \"summarization-endpoint-5\"+model_name+\"-1\"\n",
    "\n",
    "predictor = model_for_deployment.deploy(\n",
    "    initial_instance_count=1,\n",
    "    instance_type=\"ml.g4dn.xlarge\",\n",
    "    endpoint_name=endpoint_name.replace(r\"_\",\"-\"),\n",
    "    serializer=sagemaker.serializers.JSONSerializer(),\n",
    "    deserializer=sagemaker.deserializers.JSONDeserializer(),\n",
    ")"
   ]
  },
  {
   "cell_type": "code",
   "execution_count": null,
   "id": "045eda03",
   "metadata": {},
   "outputs": [],
   "source": [
    "predictor.predict({\n",
    "'inputs': \"The tower is 324 metres (1,063 ft) tall, about the same height as an 81-storey building, and the tallest structure in Paris. Its base is square, measuring 125 metres (410 ft) on each side. During its construction, the Eiffel Tower surpassed the Washington Monument to become the tallest man-made structure in the world, a title it held for 41 years until the Chrysler Building in New York City was finished in 1930. It was the first structure to reach a height of 300 metres. Due to the addition of a broadcasting aerial at the top of the tower in 1957, it is now taller than the Chrysler Building by 5.2 metres (17 ft). Excluding transmitters, the Eiffel Tower is the second tallest free-standing structure in France after the Millau Viaduct.\"\n",
    "})"
   ]
  },
  {
   "cell_type": "markdown",
   "id": "73c89675",
   "metadata": {},
   "source": [
    "### Average first loading time 2 Seconds"
   ]
  },
  {
   "cell_type": "code",
   "execution_count": null,
   "id": "4e9717b3",
   "metadata": {},
   "outputs": [],
   "source": [
    "# Can opt for Async inferencing for higher load\n",
    "# from sagemaker.async_inference import AsyncInferenceConfig\n",
    "# prefix=\"async-location\"\n",
    "# endpoint_name = \"summarization-endpoint-5\"+model_name+\"-async-V1\"\n",
    "# # Create an empty AsyncInferenceConfig object to use default values\n",
    "# async_config = AsyncInferenceConfig(output_path=f\"s3://{Bucket_Name}/{prefix}/output\")\n",
    "\n",
    "# # deploy model to SageMaker Inference\n",
    "# async_predictor = model_for_deployment.deploy(\n",
    "#     async_inference_config=async_config,\n",
    "#     initial_instance_count=1, # number of instances\n",
    "#     instance_type='ml.g4dn.xlarge', # instance type,\n",
    "#     serializer=sagemaker.serializers.JSONSerializer(),\n",
    "#     deserializer=sagemaker.deserializers.JSONDeserializer(),\n",
    "#     endpoint_name=endpoint_name.replace(r\"_\",\"-\"),\n",
    "# )"
   ]
  },
  {
   "cell_type": "code",
   "execution_count": null,
   "id": "87fa8464",
   "metadata": {},
   "outputs": [],
   "source": [
    "# async_predictor.predict_async({\n",
    "# 'inputs': \"The tower is 324 metres (1,063 ft) tall, about the same height as an 81-storey building, and the tallest structure in Paris. Its base is square, measuring 125 metres (410 ft) on each side. During its construction, the Eiffel Tower surpassed the Washington Monument to become the tallest man-made structure in the world, a title it held for 41 years until the Chrysler Building in New York City was finished in 1930. It was the first structure to reach a height of 300 metres. Due to the addition of a broadcasting aerial at the top of the tower in 1957, it is now taller than the Chrysler Building by 5.2 metres (17 ft). Excluding transmitters, the Eiffel Tower is the second tallest free-standing structure in France after the Millau Viaduct.\"\n",
    "# })"
   ]
  },
  {
   "cell_type": "code",
   "execution_count": null,
   "id": "1436378f",
   "metadata": {},
   "outputs": [],
   "source": [
    "# predictor.delete_endpoint()"
   ]
  },
  {
   "cell_type": "code",
   "execution_count": null,
   "id": "a6062e30",
   "metadata": {},
   "outputs": [],
   "source": []
  }
 ],
 "metadata": {
  "kernelspec": {
   "display_name": "conda_amazonei_pytorch_latest_p37",
   "language": "python",
   "name": "conda_amazonei_pytorch_latest_p37"
  },
  "language_info": {
   "codemirror_mode": {
    "name": "ipython",
    "version": 3
   },
   "file_extension": ".py",
   "mimetype": "text/x-python",
   "name": "python",
   "nbconvert_exporter": "python",
   "pygments_lexer": "ipython3",
   "version": "3.7.12"
  }
 },
 "nbformat": 4,
 "nbformat_minor": 5
}
