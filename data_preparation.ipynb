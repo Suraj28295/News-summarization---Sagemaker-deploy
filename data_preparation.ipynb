{
 "cells": [
  {
   "cell_type": "code",
   "execution_count": 1,
   "id": "d0884d1c",
   "metadata": {
    "collapsed": true,
    "jupyter": {
     "outputs_hidden": true
    }
   },
   "outputs": [
    {
     "name": "stdout",
     "output_type": "stream",
     "text": [
      "Looking in indexes: https://pypi.org/simple, https://pip.repos.neuron.amazonaws.com\n",
      "Collecting datasets==2.3.0\n",
      "  Downloading datasets-2.3.0-py3-none-any.whl (361 kB)\n",
      "\u001b[2K     \u001b[90m━━━━━━━━━━━━━━━━━━━━━━━━━━━━━━━━━━━━━━━\u001b[0m \u001b[32m361.9/361.9 KB\u001b[0m \u001b[31m4.9 MB/s\u001b[0m eta \u001b[36m0:00:00\u001b[0m00:01\u001b[0m00:01\u001b[0m\n",
      "\u001b[?25hCollecting transformers==4.20.1\n",
      "  Downloading transformers-4.20.1-py3-none-any.whl (4.4 MB)\n",
      "\u001b[2K     \u001b[90m━━━━━━━━━━━━━━━━━━━━━━━━━━━━━━━━━━━━━━━━\u001b[0m \u001b[32m4.4/4.4 MB\u001b[0m \u001b[31m36.5 MB/s\u001b[0m eta \u001b[36m0:00:00\u001b[0m00:01\u001b[0m00:01\u001b[0m\n",
      "\u001b[?25hCollecting rouge-score\n",
      "  Downloading rouge_score-0.0.4-py2.py3-none-any.whl (22 kB)\n",
      "Requirement already satisfied: numpy>=1.17 in /home/ec2-user/anaconda3/envs/amazonei_pytorch_latest_p37/lib/python3.7/site-packages (from datasets==2.3.0) (1.21.5)\n",
      "Collecting xxhash\n",
      "  Downloading xxhash-3.0.0-cp37-cp37m-manylinux_2_17_x86_64.manylinux2014_x86_64.whl (212 kB)\n",
      "\u001b[2K     \u001b[90m━━━━━━━━━━━━━━━━━━━━━━━━━━━━━━━━━━━━━━\u001b[0m \u001b[32m212.2/212.2 KB\u001b[0m \u001b[31m13.8 MB/s\u001b[0m eta \u001b[36m0:00:00\u001b[0m\n",
      "\u001b[?25hCollecting pyarrow>=6.0.0\n",
      "  Downloading pyarrow-8.0.0-cp37-cp37m-manylinux_2_17_x86_64.manylinux2014_x86_64.whl (29.3 MB)\n",
      "\u001b[2K     \u001b[90m━━━━━━━━━━━━━━━━━━━━━━━━━━━━━━━━━━━━━━━━\u001b[0m \u001b[32m29.3/29.3 MB\u001b[0m \u001b[31m51.7 MB/s\u001b[0m eta \u001b[36m0:00:00\u001b[0m00:01\u001b[0m00:01\u001b[0m\n",
      "\u001b[?25hRequirement already satisfied: packaging in /home/ec2-user/anaconda3/envs/amazonei_pytorch_latest_p37/lib/python3.7/site-packages (from datasets==2.3.0) (21.3)\n",
      "Requirement already satisfied: dill<0.3.6 in /home/ec2-user/anaconda3/envs/amazonei_pytorch_latest_p37/lib/python3.7/site-packages (from datasets==2.3.0) (0.3.4)\n",
      "Requirement already satisfied: tqdm>=4.62.1 in /home/ec2-user/anaconda3/envs/amazonei_pytorch_latest_p37/lib/python3.7/site-packages (from datasets==2.3.0) (4.63.0)\n",
      "Requirement already satisfied: multiprocess in /home/ec2-user/anaconda3/envs/amazonei_pytorch_latest_p37/lib/python3.7/site-packages (from datasets==2.3.0) (0.70.12.2)\n",
      "Requirement already satisfied: importlib-metadata in /home/ec2-user/anaconda3/envs/amazonei_pytorch_latest_p37/lib/python3.7/site-packages (from datasets==2.3.0) (4.11.3)\n",
      "Requirement already satisfied: aiohttp in /home/ec2-user/anaconda3/envs/amazonei_pytorch_latest_p37/lib/python3.7/site-packages (from datasets==2.3.0) (3.8.1)\n",
      "Requirement already satisfied: fsspec[http]>=2021.05.0 in /home/ec2-user/anaconda3/envs/amazonei_pytorch_latest_p37/lib/python3.7/site-packages (from datasets==2.3.0) (2022.2.0)\n",
      "Collecting responses<0.19\n",
      "  Downloading responses-0.18.0-py3-none-any.whl (38 kB)\n",
      "Requirement already satisfied: pandas in /home/ec2-user/anaconda3/envs/amazonei_pytorch_latest_p37/lib/python3.7/site-packages (from datasets==2.3.0) (1.3.5)\n",
      "Requirement already satisfied: requests>=2.19.0 in /home/ec2-user/anaconda3/envs/amazonei_pytorch_latest_p37/lib/python3.7/site-packages (from datasets==2.3.0) (2.27.1)\n",
      "Requirement already satisfied: huggingface-hub<1.0.0,>=0.1.0 in /home/ec2-user/anaconda3/envs/amazonei_pytorch_latest_p37/lib/python3.7/site-packages (from datasets==2.3.0) (0.4.0)\n",
      "Requirement already satisfied: filelock in /home/ec2-user/anaconda3/envs/amazonei_pytorch_latest_p37/lib/python3.7/site-packages (from transformers==4.20.1) (3.6.0)\n",
      "Requirement already satisfied: regex!=2019.12.17 in /home/ec2-user/anaconda3/envs/amazonei_pytorch_latest_p37/lib/python3.7/site-packages (from transformers==4.20.1) (2022.3.15)\n",
      "Requirement already satisfied: pyyaml>=5.1 in /home/ec2-user/anaconda3/envs/amazonei_pytorch_latest_p37/lib/python3.7/site-packages (from transformers==4.20.1) (5.4.1)\n",
      "Requirement already satisfied: tokenizers!=0.11.3,<0.13,>=0.11.1 in /home/ec2-user/anaconda3/envs/amazonei_pytorch_latest_p37/lib/python3.7/site-packages (from transformers==4.20.1) (0.11.6)\n",
      "Collecting nltk\n",
      "  Downloading nltk-3.7-py3-none-any.whl (1.5 MB)\n",
      "\u001b[2K     \u001b[90m━━━━━━━━━━━━━━━━━━━━━━━━━━━━━━━━━━━━━━━━\u001b[0m \u001b[32m1.5/1.5 MB\u001b[0m \u001b[31m15.5 MB/s\u001b[0m eta \u001b[36m0:00:00\u001b[0m:00:01\u001b[0m\n",
      "\u001b[?25hRequirement already satisfied: six>=1.14.0 in /home/ec2-user/anaconda3/envs/amazonei_pytorch_latest_p37/lib/python3.7/site-packages (from rouge-score) (1.16.0)\n",
      "Collecting absl-py\n",
      "  Downloading absl_py-1.1.0-py3-none-any.whl (123 kB)\n",
      "\u001b[2K     \u001b[90m━━━━━━━━━━━━━━━━━━━━━━━━━━━━━━━━━━━━━━\u001b[0m \u001b[32m123.7/123.7 KB\u001b[0m \u001b[31m32.5 MB/s\u001b[0m eta \u001b[36m0:00:00\u001b[0m\n",
      "\u001b[?25hRequirement already satisfied: typing-extensions>=3.7.4.3 in /home/ec2-user/anaconda3/envs/amazonei_pytorch_latest_p37/lib/python3.7/site-packages (from huggingface-hub<1.0.0,>=0.1.0->datasets==2.3.0) (4.1.1)\n",
      "Requirement already satisfied: pyparsing!=3.0.5,>=2.0.2 in /home/ec2-user/anaconda3/envs/amazonei_pytorch_latest_p37/lib/python3.7/site-packages (from packaging->datasets==2.3.0) (3.0.7)\n",
      "Requirement already satisfied: charset-normalizer~=2.0.0 in /home/ec2-user/anaconda3/envs/amazonei_pytorch_latest_p37/lib/python3.7/site-packages (from requests>=2.19.0->datasets==2.3.0) (2.0.12)\n",
      "Requirement already satisfied: idna<4,>=2.5 in /home/ec2-user/anaconda3/envs/amazonei_pytorch_latest_p37/lib/python3.7/site-packages (from requests>=2.19.0->datasets==2.3.0) (3.3)\n",
      "Requirement already satisfied: certifi>=2017.4.17 in /home/ec2-user/anaconda3/envs/amazonei_pytorch_latest_p37/lib/python3.7/site-packages (from requests>=2.19.0->datasets==2.3.0) (2021.10.8)\n",
      "Requirement already satisfied: urllib3<1.27,>=1.21.1 in /home/ec2-user/anaconda3/envs/amazonei_pytorch_latest_p37/lib/python3.7/site-packages (from requests>=2.19.0->datasets==2.3.0) (1.26.8)\n",
      "Requirement already satisfied: aiosignal>=1.1.2 in /home/ec2-user/anaconda3/envs/amazonei_pytorch_latest_p37/lib/python3.7/site-packages (from aiohttp->datasets==2.3.0) (1.2.0)\n",
      "Requirement already satisfied: async-timeout<5.0,>=4.0.0a3 in /home/ec2-user/anaconda3/envs/amazonei_pytorch_latest_p37/lib/python3.7/site-packages (from aiohttp->datasets==2.3.0) (4.0.2)\n",
      "Requirement already satisfied: attrs>=17.3.0 in /home/ec2-user/anaconda3/envs/amazonei_pytorch_latest_p37/lib/python3.7/site-packages (from aiohttp->datasets==2.3.0) (20.3.0)\n",
      "Requirement already satisfied: multidict<7.0,>=4.5 in /home/ec2-user/anaconda3/envs/amazonei_pytorch_latest_p37/lib/python3.7/site-packages (from aiohttp->datasets==2.3.0) (6.0.2)\n",
      "Requirement already satisfied: frozenlist>=1.1.1 in /home/ec2-user/anaconda3/envs/amazonei_pytorch_latest_p37/lib/python3.7/site-packages (from aiohttp->datasets==2.3.0) (1.3.0)\n",
      "Requirement already satisfied: yarl<2.0,>=1.0 in /home/ec2-user/anaconda3/envs/amazonei_pytorch_latest_p37/lib/python3.7/site-packages (from aiohttp->datasets==2.3.0) (1.7.2)\n",
      "Requirement already satisfied: asynctest==0.13.0 in /home/ec2-user/anaconda3/envs/amazonei_pytorch_latest_p37/lib/python3.7/site-packages (from aiohttp->datasets==2.3.0) (0.13.0)\n",
      "Requirement already satisfied: zipp>=0.5 in /home/ec2-user/anaconda3/envs/amazonei_pytorch_latest_p37/lib/python3.7/site-packages (from importlib-metadata->datasets==2.3.0) (3.7.0)\n",
      "Requirement already satisfied: joblib in /home/ec2-user/anaconda3/envs/amazonei_pytorch_latest_p37/lib/python3.7/site-packages (from nltk->rouge-score) (1.1.0)\n",
      "Requirement already satisfied: click in /home/ec2-user/anaconda3/envs/amazonei_pytorch_latest_p37/lib/python3.7/site-packages (from nltk->rouge-score) (8.0.4)\n",
      "Requirement already satisfied: python-dateutil>=2.7.3 in /home/ec2-user/anaconda3/envs/amazonei_pytorch_latest_p37/lib/python3.7/site-packages (from pandas->datasets==2.3.0) (2.8.2)\n",
      "Requirement already satisfied: pytz>=2017.3 in /home/ec2-user/anaconda3/envs/amazonei_pytorch_latest_p37/lib/python3.7/site-packages (from pandas->datasets==2.3.0) (2021.3)\n",
      "Installing collected packages: xxhash, pyarrow, absl-py, responses, transformers, nltk, rouge-score, datasets\n",
      "  Attempting uninstall: transformers\n",
      "    Found existing installation: transformers 4.17.0\n",
      "    Uninstalling transformers-4.17.0:\n",
      "      Successfully uninstalled transformers-4.17.0\n",
      "Successfully installed absl-py-1.1.0 datasets-2.3.0 nltk-3.7 pyarrow-8.0.0 responses-0.18.0 rouge-score-0.0.4 transformers-4.20.1 xxhash-3.0.0\n"
     ]
    }
   ],
   "source": [
    "import sys\n",
    "!{sys.executable} -m pip install \"datasets==2.3.0\" \"transformers==4.20.1\" \"rouge-score\""
   ]
  },
  {
   "cell_type": "code",
   "execution_count": 2,
   "id": "d5461dea",
   "metadata": {},
   "outputs": [],
   "source": [
    "# Run to load all the Libraries and helper functions\n",
    "%run \"Utilities/libraries.py\""
   ]
  },
  {
   "cell_type": "code",
   "execution_count": 3,
   "id": "e351b085",
   "metadata": {},
   "outputs": [],
   "source": [
    "# INPUTS TO THE SCRIPTS\n",
    "Bucket_Name=\"model-deploy-poc-new\"\n",
    "\n",
    "train_test_val_location_S3=\"train_test_val\"\n",
    "\n",
    "\n",
    "text_column=\"Article\"\n",
    "target_column=\"Summary\""
   ]
  },
  {
   "cell_type": "code",
   "execution_count": 4,
   "id": "9ba47321",
   "metadata": {},
   "outputs": [],
   "source": [
    "sess=boto3.session.Session()\n",
    "role=sagemaker.get_execution_role()"
   ]
  },
  {
   "cell_type": "markdown",
   "id": "d357cbd3",
   "metadata": {},
   "source": [
    "## 1. Data Loading and Pre-processing"
   ]
  },
  {
   "cell_type": "code",
   "execution_count": 5,
   "id": "161dbbe9",
   "metadata": {},
   "outputs": [],
   "source": [
    "# load data from S3 to Data\n",
    "# prefix=\"BBC News Summary\"\n",
    "# !aws s3 cp \"s3://{Bucket_Name}/{prefix}\" \"./Data/\" --recursive"
   ]
  },
  {
   "cell_type": "code",
   "execution_count": 6,
   "id": "43adc730",
   "metadata": {},
   "outputs": [],
   "source": [
    "# Read data\n",
    "dataset_path = Path('Data/')\n",
    "\n",
    "articles_data = list(map(extract, dataset_path.glob('News Articles/*/*.txt')))\n",
    "summaries_data = list(map(extract, dataset_path.glob('Summaries/*/*.txt')))\n",
    "\n",
    "articles_df = pd.DataFrame(articles_data, columns=('Category', 'ID', text_column))\n",
    "summaries_df = pd.DataFrame(summaries_data, columns=('Category', 'ID', target_column))\n",
    "\n",
    "df = articles_df.merge(summaries_df, how='inner', on=('Category', 'ID'))"
   ]
  },
  {
   "cell_type": "code",
   "execution_count": 7,
   "id": "33fc8557",
   "metadata": {},
   "outputs": [
    {
     "data": {
      "text/plain": [
       "(2225, 3)"
      ]
     },
     "execution_count": 7,
     "metadata": {},
     "output_type": "execute_result"
    }
   ],
   "source": [
    "articles_df.shape"
   ]
  },
  {
   "cell_type": "markdown",
   "id": "f114a0fa",
   "metadata": {},
   "source": [
    "## 2. Data Cleaning "
   ]
  },
  {
   "cell_type": "code",
   "execution_count": 8,
   "id": "9d513816",
   "metadata": {},
   "outputs": [
    {
     "data": {
      "text/plain": [
       "'Download chart debut is delayed\\n\\nThe inclusion of downloaded music in the official singles chart has been delayed for a month.\\n\\nThe British Phonographic Industry (BPI) had planned to include download formats in the chart from 20 March. But the date has been put back to 17 April to create a \"level playing field\" for independent labels. The BPI is concerned that independent repertoire is not adequately represented online and said they were looking at ways of rectifying it.\\n\\nBPI chairman Peter Jamieson said: \"The inclusion of download formats in the Official UK Singles Chart is the most significant development in the charts for 20 years.\\n\\n\"But for a multitude of reasons the current chart representation of independent repertoire at the major download outlets is poor. \"I am very pleased we have secured this delay on behalf of independents. We have to try and establish a realistic \\'level playing field\\' of opportunity. The Official UK Charts are run by The Official UK Charts Company (OCC) - a joint venture between the BPI and the British Association of Record Dealers (BARD). At an OCC board meeting on Wednesday, the OCC board agreed with BPI members that the 20 March start date be postponed. Download formats will now be included in the Official UK Singles Chart for the first time in the chart published on 17 April - the sales week beginning 10 April. The US has already merged downloaded singles into its Billboard Hot 100 chart.\\n'"
      ]
     },
     "execution_count": 8,
     "metadata": {},
     "output_type": "execute_result"
    }
   ],
   "source": [
    "df[text_column][0]"
   ]
  },
  {
   "cell_type": "code",
   "execution_count": 9,
   "id": "75bb3b60",
   "metadata": {},
   "outputs": [
    {
     "name": "stderr",
     "output_type": "stream",
     "text": [
      "100%|\u001b[33m██████████\u001b[0m| 2225/2225 [00:00<00:00, 4687.78it/s]\n",
      "100%|\u001b[33m██████████\u001b[0m| 2225/2225 [00:00<00:00, 15538.99it/s]\n",
      "100%|\u001b[33m██████████\u001b[0m| 5/5 [00:00<00:00, 5556.84it/s]"
     ]
    },
    {
     "name": "stdout",
     "output_type": "stream",
     "text": [
      "download chart debut is delayed the inclusion of downloaded music in the official singles chart has been delayed for a month the british phonographic industry bpi had planned to include download formats in the chart from 20 march but the date has been put back to 17 april to create a level playing field for independent labels the bpi is concerned that independent repertoire is not adequately represented online and said they were looking at ways of rectifying it bpi chairman peter jamieson said the inclusion of download formats in the official uk singles chart is the most significant development in the charts for 20 years but for a multitude of reasons the current chart representation of independent repertoire at the major download outlets is poor i am very pleased we have secured this delay on behalf of independents we have to try and establish a realistic 'level playing field' of opportunity the official uk charts are run by the official uk charts company occ a joint venture between the bpi and the british association of record dealers bard at an occ board meeting on wednesday the occ board agreed with bpi members that the 20 march start date be postponed download formats will now be included in the official uk singles chart for the first time in the chart published on 17 april the sales week beginning 10 april the us has already merged downloaded singles into its billboard hot 100 chart\n"
     ]
    },
    {
     "name": "stderr",
     "output_type": "stream",
     "text": [
      "\n"
     ]
    }
   ],
   "source": [
    "# We need to do some data cleaning before checking stats\n",
    "df[text_column]=data_clean(df[text_column])\n",
    "df[target_column]=data_clean(df[target_column])\n",
    "df.drop(columns=['ID','Category'],inplace=True)\n",
    "print(data_clean(df[text_column][:5])[0])\n"
   ]
  },
  {
   "cell_type": "code",
   "execution_count": 10,
   "id": "5f08e3a9",
   "metadata": {},
   "outputs": [
    {
     "name": "stdout",
     "output_type": "stream",
     "text": [
      "count     2225.000000\n",
      "mean      2207.062472\n",
      "std       1330.001861\n",
      "min        492.000000\n",
      "25%       1412.000000\n",
      "50%       1914.000000\n",
      "75%       2739.000000\n",
      "85%       3169.800000\n",
      "max      24913.000000\n",
      "Name: Article, dtype: float64\n",
      "#############################\n",
      "count     2225.000000\n",
      "mean       984.697079\n",
      "std        629.461568\n",
      "min        225.000000\n",
      "25%        613.000000\n",
      "50%        851.000000\n",
      "75%       1216.000000\n",
      "85%       1424.400000\n",
      "max      12213.000000\n",
      "Name: Summary, dtype: float64\n"
     ]
    }
   ],
   "source": [
    "print((df[text_column].str.len()).describe(percentiles=[.25, .5, .75,0.85]))\n",
    "print(\"#############################\")\n",
    "print((df[target_column].str.len()).describe(percentiles=[.25, .5, .75,0.85]))"
   ]
  },
  {
   "cell_type": "code",
   "execution_count": 11,
   "id": "0546d4dd",
   "metadata": {},
   "outputs": [],
   "source": [
    "nth_decile_outlire_threshold=0.9\n",
    "\n",
    "df=df[(df[text_column].str.len()<(df[text_column].str.len()).describe(percentiles=[nth_decile_outlire_threshold])[-2]) |\n",
    "      (df[target_column].str.len()<(df[target_column].str.len()).describe(percentiles=[nth_decile_outlire_threshold])[-2])]"
   ]
  },
  {
   "cell_type": "code",
   "execution_count": 12,
   "id": "a80bf7ec",
   "metadata": {},
   "outputs": [
    {
     "name": "stdout",
     "output_type": "stream",
     "text": [
      "count    2040.000000\n",
      "mean     1952.873529\n",
      "std       735.742038\n",
      "min       492.000000\n",
      "25%      1364.750000\n",
      "50%      1818.500000\n",
      "75%      2473.250000\n",
      "85%      2844.300000\n",
      "max      4125.000000\n",
      "Name: Article, dtype: float64\n",
      "#############################\n",
      "count    2040.000000\n",
      "mean      867.465686\n",
      "std       334.565152\n",
      "min       225.000000\n",
      "25%       601.000000\n",
      "50%       803.000000\n",
      "75%      1106.000000\n",
      "85%      1266.150000\n",
      "max      1849.000000\n",
      "Name: Summary, dtype: float64\n"
     ]
    }
   ],
   "source": [
    "print((df[text_column].str.len()).describe(percentiles=[.25, .5, .75,0.85]))\n",
    "print(\"#############################\")\n",
    "print((df[target_column].str.len()).describe(percentiles=[.25, .5, .75,0.85]))"
   ]
  },
  {
   "cell_type": "markdown",
   "id": "f28b7102",
   "metadata": {},
   "source": [
    "## 3. Prepare data for the model"
   ]
  },
  {
   "cell_type": "code",
   "execution_count": 13,
   "id": "86ebc5d8",
   "metadata": {},
   "outputs": [],
   "source": [
    "df_to_datadict=data_for_model_from_pandas(df,test_size=0.2,val_from_test_size=0.3)"
   ]
  },
  {
   "cell_type": "code",
   "execution_count": 14,
   "id": "4ef10ff1",
   "metadata": {},
   "outputs": [
    {
     "data": {
      "text/plain": [
       "DatasetDict({\n",
       "    train: Dataset({\n",
       "        features: ['Article', 'Summary', '__index_level_0__'],\n",
       "        num_rows: 1632\n",
       "    })\n",
       "    test: Dataset({\n",
       "        features: ['Article', 'Summary', '__index_level_0__'],\n",
       "        num_rows: 326\n",
       "    })\n",
       "    val: Dataset({\n",
       "        features: ['Article', 'Summary', '__index_level_0__'],\n",
       "        num_rows: 82\n",
       "    })\n",
       "})"
      ]
     },
     "execution_count": 14,
     "metadata": {},
     "output_type": "execute_result"
    }
   ],
   "source": [
    "df_to_datadict"
   ]
  },
  {
   "cell_type": "code",
   "execution_count": 21,
   "id": "79772d55",
   "metadata": {},
   "outputs": [
    {
     "name": "stdout",
     "output_type": "stream",
     "text": [
      "Looking in indexes: https://pypi.org/simple, https://pip.repos.neuron.amazonaws.com\n",
      "Requirement already satisfied: fsspec in /home/ec2-user/anaconda3/envs/amazonei_pytorch_latest_p37/lib/python3.7/site-packages (2022.5.0)\n"
     ]
    }
   ],
   "source": [
    "!pip install --upgrade fsspec"
   ]
  },
  {
   "cell_type": "code",
   "execution_count": 23,
   "id": "5d6fb445",
   "metadata": {},
   "outputs": [],
   "source": [
    "import datasets"
   ]
  },
  {
   "cell_type": "code",
   "execution_count": 29,
   "id": "dbd7366f",
   "metadata": {},
   "outputs": [],
   "source": [
    "import s3fs\n",
    "fs = s3fs.S3FileSystem()"
   ]
  },
  {
   "cell_type": "code",
   "execution_count": 31,
   "id": "5769c0ad",
   "metadata": {},
   "outputs": [
    {
     "data": {
      "application/vnd.jupyter.widget-view+json": {
       "model_id": "8deb0611bc954926954d799390675d74",
       "version_major": 2,
       "version_minor": 0
      },
      "text/plain": [
       "Flattening the indices:   0%|          | 0/2 [00:00<?, ?ba/s]"
      ]
     },
     "metadata": {},
     "output_type": "display_data"
    },
    {
     "data": {
      "application/vnd.jupyter.widget-view+json": {
       "model_id": "f093dd25bf69407794b9ea91a379c183",
       "version_major": 2,
       "version_minor": 0
      },
      "text/plain": [
       "Flattening the indices:   0%|          | 0/1 [00:00<?, ?ba/s]"
      ]
     },
     "metadata": {},
     "output_type": "display_data"
    },
    {
     "data": {
      "application/vnd.jupyter.widget-view+json": {
       "model_id": "aaa91378000c40df9e9c33a7903b89ee",
       "version_major": 2,
       "version_minor": 0
      },
      "text/plain": [
       "Flattening the indices:   0%|          | 0/1 [00:00<?, ?ba/s]"
      ]
     },
     "metadata": {},
     "output_type": "display_data"
    }
   ],
   "source": [
    "df_to_datadict.save_to_disk(f\"s3://{Bucket_Name}/{train_test_val_location_S3}/\", fs=fs)"
   ]
  },
  {
   "cell_type": "code",
   "execution_count": 32,
   "id": "a0f31eae",
   "metadata": {},
   "outputs": [
    {
     "data": {
      "text/plain": [
       "'s3://model-deploy-poc-new/train_test_val'"
      ]
     },
     "execution_count": 32,
     "metadata": {},
     "output_type": "execute_result"
    }
   ],
   "source": [
    "input_path = f\"s3://{Bucket_Name}/{train_test_val_location_S3}\"\n",
    "input_path"
   ]
  }
 ],
 "metadata": {
  "kernelspec": {
   "display_name": "conda_amazonei_pytorch_latest_p37",
   "language": "python",
   "name": "conda_amazonei_pytorch_latest_p37"
  },
  "language_info": {
   "codemirror_mode": {
    "name": "ipython",
    "version": 3
   },
   "file_extension": ".py",
   "mimetype": "text/x-python",
   "name": "python",
   "nbconvert_exporter": "python",
   "pygments_lexer": "ipython3",
   "version": "3.7.12"
  }
 },
 "nbformat": 4,
 "nbformat_minor": 5
}
